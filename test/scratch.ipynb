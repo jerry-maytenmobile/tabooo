{
 "cells": [
  {
   "cell_type": "code",
   "execution_count": 1,
   "id": "3eb64c8b",
   "metadata": {},
   "outputs": [
    {
     "name": "stdout",
     "output_type": "stream",
     "text": [
      "test.ipynb\n"
     ]
    }
   ],
   "source": [
    "%%bash\n",
    "ls"
   ]
  },
  {
   "cell_type": "code",
   "execution_count": 2,
   "id": "e82dcb56",
   "metadata": {},
   "outputs": [
    {
     "data": {
      "text/html": [
       "<button id=\"mybutton\">Click Me</button>\n"
      ],
      "text/plain": [
       "<IPython.core.display.HTML object>"
      ]
     },
     "metadata": {},
     "output_type": "display_data"
    }
   ],
   "source": [
    "%%html\n",
    "<button id=\"mybutton\">Click Me</button>"
   ]
  },
  {
   "cell_type": "code",
   "execution_count": 36,
   "id": "508f5fb6",
   "metadata": {},
   "outputs": [
    {
     "data": {
      "text/html": [
       "<html>\n",
       "\n",
       "<head>\n",
       "<style>\n",
       ".grid-container {\n",
       "  display: inline-grid;\n",
       "  grid-gap: 20px;\n",
       "  grid-auto-flow: column;\n",
       "}\n",
       ".grid-item {\n",
       "    border-radius: 10px;\n",
       "    padding: 15px;\n",
       "    text-align: center;\n",
       "}\n",
       ".nonactive {\n",
       "    border: 2px solid #000000;    \n",
       "}\n",
       ".activeteam {\n",
       "    border: 2px solid #FF0000;\n",
       "}\n",
       ".activeplayer {\n",
       "    border: 4px solid #FF0000;\n",
       "    background-color: #EFFD5F;\n",
       "}\n",
       ".center {\n",
       "    text-align: center;\n",
       "}\n",
       "</style>\n",
       "</head>\n",
       "\n",
       "<body>\n",
       "<div class=\"grid-container\">\n",
       "  <div id=\"p1\" class=\"grid-item nonactive\">1</div>\n",
       "  <div id=\"p2\" class=\"grid-item nonactive\">22</div>\n",
       "  <div id=\"p3\" class=\"grid-item activeplayer activeteam\">\n",
       "    <span id=\"p3name\">me</span><br>\n",
       "    <span id=\"p3score\">6</span></div>\n",
       "  <div id=\"p4\" class=\"grid-item activeteam\">4</div>    \n",
       "</div>\n",
       "<script>\n",
       "  p3name.innerHTML = \"jerry\";\n",
       "</script>\n",
       "</body>\n",
       "\n",
       "</html>\n"
      ],
      "text/plain": [
       "<IPython.core.display.HTML object>"
      ]
     },
     "metadata": {},
     "output_type": "display_data"
    }
   ],
   "source": [
    "%%html\n",
    "<html>\n",
    "\n",
    "<head>\n",
    "<style>\n",
    ".grid-container {\n",
    "  display: inline-grid;\n",
    "  grid-gap: 20px;\n",
    "  grid-auto-flow: column;\n",
    "}\n",
    ".grid-item {\n",
    "    border-radius: 10px;\n",
    "    padding: 15px;\n",
    "    text-align: center;\n",
    "}\n",
    ".nonactive {\n",
    "    border: 2px solid #000000;    \n",
    "}\n",
    ".activeteam {\n",
    "    border: 2px solid #FF0000;\n",
    "}\n",
    ".activeplayer {\n",
    "    border: 4px solid #FF0000;\n",
    "    background-color: #EFFD5F;\n",
    "}\n",
    ".center {\n",
    "    text-align: center;\n",
    "}\n",
    "</style>\n",
    "</head>\n",
    "\n",
    "<body>\n",
    "<div class=\"grid-container\">\n",
    "  <div id=\"p1\" class=\"grid-item nonactive\">1</div>\n",
    "  <div id=\"p2\" class=\"grid-item nonactive\">22</div>\n",
    "  <div id=\"p3\" class=\"grid-item activeplayer activeteam\">\n",
    "    <span id=\"p3name\">me</span><br>\n",
    "    <span id=\"p3score\">6</span></div>\n",
    "  <div id=\"p4\" class=\"grid-item activeteam\">4</div>    \n",
    "</div>\n",
    "<script>\n",
    "  p3name.innerHTML = \"jerry\";\n",
    "</script>\n",
    "</body>\n",
    "\n",
    "</html>"
   ]
  },
  {
   "cell_type": "code",
   "execution_count": 37,
   "id": "5241ec00",
   "metadata": {},
   "outputs": [
    {
     "data": {
      "text/html": [
       "<html>\n",
       "<body>\n",
       "\n",
       "<ul id=\"foodlist\">Food</ul>\n",
       "\n",
       "<button onclick=\"myFunction()\">Add item</button>\n",
       "\n",
       "<script>\n",
       "function myFunction() {\n",
       "  var LI = document.createElement(\"LI\");\n",
       "  LI.innerHTML = \"carrot\";\n",
       "  document.getElementById(\"foodlist\").appendChild(LI);\n",
       "}\n",
       "</script>\n",
       "\n",
       "</body>\n",
       "</html>\n"
      ],
      "text/plain": [
       "<IPython.core.display.HTML object>"
      ]
     },
     "metadata": {},
     "output_type": "display_data"
    }
   ],
   "source": [
    "%%html\n",
    "<html>\n",
    "<body>\n",
    "\n",
    "<ul id=\"foodlist\">Food</ul>\n",
    "\n",
    "<button onclick=\"myFunction()\">Add item</button>\n",
    "\n",
    "<script>\n",
    "function myFunction() {\n",
    "  var LI = document.createElement(\"LI\");\n",
    "  LI.innerHTML = \"carrot\";\n",
    "  document.getElementById(\"foodlist\").appendChild(LI);\n",
    "}\n",
    "</script>\n",
    "\n",
    "</body>\n",
    "</html>"
   ]
  },
  {
   "cell_type": "code",
   "execution_count": null,
   "id": "0f40226d",
   "metadata": {},
   "outputs": [],
   "source": []
  }
 ],
 "metadata": {
  "kernelspec": {
   "display_name": "Python 3 (ipykernel)",
   "language": "python",
   "name": "python3"
  },
  "language_info": {
   "codemirror_mode": {
    "name": "ipython",
    "version": 3
   },
   "file_extension": ".py",
   "mimetype": "text/x-python",
   "name": "python",
   "nbconvert_exporter": "python",
   "pygments_lexer": "ipython3",
   "version": "3.9.7"
  }
 },
 "nbformat": 4,
 "nbformat_minor": 5
}
